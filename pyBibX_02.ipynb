{
  "nbformat": 4,
  "nbformat_minor": 0,
  "metadata": {
    "colab": {
      "provenance": []
    },
    "kernelspec": {
      "name": "python3",
      "display_name": "Python 3"
    },
    "language_info": {
      "name": "python"
    }
  },
  "cells": [
    {
      "cell_type": "markdown",
      "source": [
        "# Example 07: Your Own"
      ],
      "metadata": {
        "id": "UOnbXp3_xTsQ"
      }
    },
    {
      "cell_type": "code",
      "execution_count": null,
      "metadata": {
        "id": "XtIALBqNzkED"
      },
      "outputs": [],
      "source": [
        "############################################################################\n",
        "\n",
        "# Created by: Prof. Valdecy Pereira, D.Sc.\n",
        "# UFF - Universidade Federal Fluminense (Brazil)\n",
        "# email:  valdecy.pereira@gmail.com\n",
        "# pyBibX - A Bibliometric and Scientometric Library\n",
        "# Example - Use your own .bib\n",
        "\n",
        "# Citation:\n",
        "# PEREIRA, V.; BASILIO, M.P.; SANTOS, C.H.T. (2025). PyBibX: A Python Library for Bibliometric and\n",
        "# Scientometric Analysis Powered with Artificial Intelligence Tools. Data Technologies and Applications.\n",
        "# Vol. ahead-of-print No. ahead-of-print. doi: https://doi.org/10.1108/DTA-08-2023-0461\n",
        "\n",
        "############################################################################"
      ]
    },
    {
      "cell_type": "code",
      "source": [
        "# Restart the session afther this cell to avoid Google Colab errors\n",
        "!pip install --upgrade --force-reinstall numpy==1.26.4 pandas"
      ],
      "metadata": {
        "id": "VyoGKgH8elFJ"
      },
      "execution_count": null,
      "outputs": []
    },
    {
      "cell_type": "code",
      "source": [
        "!pip install pybibx\n",
        "!pip install tabulate"
      ],
      "metadata": {
        "id": "i4wrQ_eiztdR"
      },
      "execution_count": null,
      "outputs": []
    },
    {
      "cell_type": "code",
      "source": [
        "# Required Libraries\n",
        "import numpy as np\n",
        "import pandas as pd\n",
        "import textwrap\n",
        "\n",
        "from google.colab import data_table\n",
        "from google.colab import files\n",
        "from tabulate import tabulate\n",
        "from prettytable import PrettyTable\n",
        "from pybibx.base import pbx_probe"
      ],
      "metadata": {
        "id": "8u-GBqWszwEe"
      },
      "execution_count": null,
      "outputs": []
    },
    {
      "cell_type": "markdown",
      "source": [
        "# Load Dataset\n",
        "---\n",
        "In this section, we will load and inspect the dataset."
      ],
      "metadata": {
        "id": "f__sTfbVZtcc"
      }
    },
    {
      "cell_type": "code",
      "source": [
        "# Upload your own .bib file\n",
        "files.upload()"
      ],
      "metadata": {
        "id": "lmgBX4f3zzF2"
      },
      "execution_count": null,
      "outputs": []
    },
    {
      "cell_type": "code",
      "source": [
        "# Load .bib\n",
        "# Arguments: file_bib = 'filename.bib'; db = 'scopus', 'wos', 'pubmed'; del_duplicated = True, False\n",
        "file_name = 'YOUR FILE NAME.bib'\n",
        "#database  = 'scopus'\n",
        "#database  = 'wos'\n",
        "#database  = 'pubmed'\n",
        "bibfile   = pbx_probe(file_bib = file_name, db = database, del_duplicated = True)"
      ],
      "metadata": {
        "id": "ZKHxykYDzzTi"
      },
      "execution_count": null,
      "outputs": []
    },
    {
      "cell_type": "code",
      "source": [
        "# Merge Database\n",
        "file_name_ = 'YOUR FILE NAME.bib'\n",
        "#database  = 'scopus'\n",
        "#database  = 'wos'\n",
        "#database  = 'pubmed'\n",
        "bibfile.merge_database(file_bib = file_name_, db = database_, del_duplicated = True)"
      ],
      "metadata": {
        "id": "GhfXxNNruX8K"
      },
      "execution_count": null,
      "outputs": []
    },
    {
      "cell_type": "code",
      "source": [
        "# Health Analysis\n",
        "health = bibfile.health_bib()\n",
        "\n",
        "# Check Health\n",
        "health"
      ],
      "metadata": {
        "id": "JDHHO4p9Um8m"
      },
      "execution_count": null,
      "outputs": []
    },
    {
      "cell_type": "code",
      "source": [
        "# Generate EDA (Exploratory Data Analysis) Report\n",
        "report  = bibfile.eda_bib()\n",
        "\n",
        "# Check Report\n",
        "report"
      ],
      "metadata": {
        "id": "FFGIc-14z14F"
      },
      "execution_count": null,
      "outputs": []
    },
    {
      "cell_type": "code",
      "source": [
        "# The metadata can be reviewed and manually modified. If you need to make adjustments, you can directly edit the bibfile.data, which is a DataFrame containing all the utilized information.\n",
        "print(tabulate(bibfile.data.head(n = 10), headers = 'keys', tablefmt = 'psql'))\n",
        "# Modify 'bibfile.data' as needed."
      ],
      "metadata": {
        "id": "m9lceORF6SNH"
      },
      "execution_count": null,
      "outputs": []
    },
    {
      "cell_type": "code",
      "source": [
        "# Check Docs IDs\n",
        "data_table.DataTable(bibfile.table_id_doc, num_rows_per_page = 15)"
      ],
      "metadata": {
        "id": "860dmHwRz4hg"
      },
      "execution_count": null,
      "outputs": []
    },
    {
      "cell_type": "code",
      "source": [
        "# Check Docs IDs per Type\n",
        "data_table.DataTable(bibfile.id_doc_types(), num_rows_per_page = 15)"
      ],
      "metadata": {
        "id": "JfOdhrczDOmx"
      },
      "execution_count": null,
      "outputs": []
    },
    {
      "cell_type": "code",
      "source": [
        "# Check Authors IDs\n",
        "data_table.DataTable(bibfile.table_id_aut, num_rows_per_page = 15)"
      ],
      "metadata": {
        "id": "YILq8alTz7IJ"
      },
      "execution_count": null,
      "outputs": []
    },
    {
      "cell_type": "code",
      "source": [
        "# These indices are local (considers only the .bib scope)\n",
        "# H-index measures their academic impact by identifying the number of papers (h) that have each received at least h citations\n",
        "# E-Index quatifies excess citations within the H-core revealing \"hidden\" impact beyond the H-index threshold.\n",
        "# The G-Index emphasizes highly cited work, making it sensitive to breakthrough publications.\n",
        "# The M-Index contextualizes the H-index by normalizing it over the researcher’s career duration\n",
        "aut_m = bibfile.m_index(2022)\n",
        "df_idx = {\n",
        "    'Author': bibfile.u_aut,\n",
        "    'H-index': bibfile.aut_h,\n",
        "    'E-Index': bibfile.aut_e,\n",
        "    'G-Index': bibfile.aut_g,\n",
        "    'M-Index': aut_m\n",
        "}\n",
        "\n",
        "df_idx = pd.DataFrame(df_idx)\n",
        "df_idx"
      ],
      "metadata": {
        "id": "9YXiX9qiNUiL"
      },
      "execution_count": null,
      "outputs": []
    },
    {
      "cell_type": "code",
      "source": [
        "# Check Sources IDs\n",
        "data_table.DataTable(bibfile.table_id_jou, num_rows_per_page = 15)"
      ],
      "metadata": {
        "id": "4rzZnhToz9-G"
      },
      "execution_count": null,
      "outputs": []
    },
    {
      "cell_type": "code",
      "source": [
        "# Check Institutions IDs\n",
        "data_table.DataTable(bibfile.table_id_uni, num_rows_per_page = 15)"
      ],
      "metadata": {
        "id": "iINZmxf40AhQ"
      },
      "execution_count": null,
      "outputs": []
    },
    {
      "cell_type": "code",
      "source": [
        "# Check Countries IDs\n",
        "data_table.DataTable(bibfile.table_id_ctr, num_rows_per_page = 15)"
      ],
      "metadata": {
        "id": "5mOLrf700DRU"
      },
      "execution_count": null,
      "outputs": []
    },
    {
      "cell_type": "code",
      "source": [
        "# Check Authors Keywords IDs\n",
        "data_table.DataTable(bibfile.table_id_kwa, num_rows_per_page = 15)"
      ],
      "metadata": {
        "id": "euLTb4pm0FiP"
      },
      "execution_count": null,
      "outputs": []
    },
    {
      "cell_type": "code",
      "source": [
        "# Check Keywords Plus IDs\n",
        "data_table.DataTable(bibfile.table_id_kwp, num_rows_per_page = 15)"
      ],
      "metadata": {
        "id": "NChCYXkC0Hd1"
      },
      "execution_count": null,
      "outputs": []
    },
    {
      "cell_type": "code",
      "source": [
        "# Check Reference IDs (If References are Given)\n",
        "df = pd.DataFrame({'Reference': bibfile.u_ref, 'Reference ID': bibfile.u_ref_id})\n",
        "data_table.DataTable(df, num_rows_per_page = 15)"
      ],
      "metadata": {
        "id": "C6HABxBGy-B0"
      },
      "execution_count": null,
      "outputs": []
    },
    {
      "cell_type": "markdown",
      "source": [
        "# Exploratory Data Analysis\n",
        "---\n",
        "In this section, we will perform EDA"
      ],
      "metadata": {
        "id": "KN4ttwpabSQl"
      }
    },
    {
      "cell_type": "code",
      "source": [
        "# WordCloud from the Abstracts, Title, Authors Keywords or Keywords Plus\n",
        "# Arguments: entry             = 'abs', 'title', 'kwa', or 'kwp'\n",
        "#            rmv_custom_words  = A list of custom stopwords to clean the corpus;\n",
        "bibfile.word_cloud_plot(entry = 'abs', size_x = 15, size_y = 10, wordsn = 500, rmv_custom_words = [])"
      ],
      "metadata": {
        "id": "ZQG0bgxH0KJK"
      },
      "execution_count": null,
      "outputs": []
    },
    {
      "cell_type": "code",
      "source": [
        "# Check Table\n",
        "num_columns = 5\n",
        "data_wd     = bibfile.ask_gpt_wd\n",
        "items       = list(data_wd.items())\n",
        "\n",
        "field_names = []\n",
        "for i in range(num_columns):\n",
        "    field_names.append(f\"Word {i + 1}\")\n",
        "    field_names.append(f\"Importance {i + 1}\")\n",
        "\n",
        "table = PrettyTable()\n",
        "table.field_names = field_names\n",
        "\n",
        "for i in range(0, len(items), num_columns):\n",
        "    row = []\n",
        "    for j in range(num_columns):\n",
        "        if i + j < len(items):\n",
        "            word, importance = items[i + j]\n",
        "            row.extend([word, round(importance, 4)])\n",
        "        else:\n",
        "            row.extend([\"\", \"\"])\n",
        "    table.add_row(row)\n",
        "\n",
        "# Print the table\n",
        "print(table)"
      ],
      "metadata": {
        "id": "4JGWp-tH2xkY"
      },
      "execution_count": null,
      "outputs": []
    },
    {
      "cell_type": "code",
      "source": [
        "# N-Grams\n",
        "# Arguments: view       = 'notebook', 'browser' ('notebook' -> To plot in your prefered Notebook App. 'browser' -> To plot in your prefered browser window);\n",
        "#            entry      = 'abs', 'title', 'kwa', or 'kwp'\n",
        "#            n_grams    = An integer with size n (representing the most common groups of words with size n)\n",
        "#            stop_words = A list of stopwords to clean the corpus. ['ar', 'bn', 'bg', 'cs', 'en', 'fi', 'fr', 'de', 'el', 'hi', 'he', 'hu', 'it', 'ja', 'ko',  'mr', 'fa', 'pl', 'pt-br', 'ro', 'ru', 'es', 'sv', 'sk', 'zh', 'th', 'uk'];\n",
        "#                         'ar' = Arabic; 'bn' = Bengali; 'bg' = Bulgarian; 'cs' = Czech; 'en' = English; 'fi' = Finnish; 'fr' = French; 'de' = German; 'el' = Greek; 'he' = Hebrew;'hi' = Hindi; 'hu' = Hungarian; 'it' = Italian;\n",
        "#                         'ja' = Japanese; 'ko' = Korean; 'mr' =  Marathi; 'fa' =  Persian; 'pl' =  Polish; 'pt-br' = Potuguese-Brazilian; 'ro' = Romanian; 'ru' = Russian; 'es' =  Spanish; 'sk' = Slovak; 'sv' = Swedish;\n",
        "#                         'zh' = Chinese; 'th' = Thai; 'uk' = Ukrainian\n",
        "#            rmv_custom_words  = A list of custom stopwords to clean the corpus\n",
        "#             wordsn           = Number of N-Grams\n",
        "bibfile.get_top_ngrams(view = 'notebook', entry = 'kwp', ngrams = 3, stop_words = [], rmv_custom_words = [], wordsn = 15)"
      ],
      "metadata": {
        "id": "mxS8hd3DCZ-Q"
      },
      "execution_count": null,
      "outputs": []
    },
    {
      "cell_type": "code",
      "source": [
        "# Check Table\n",
        "data_ng = bibfile.ask_gpt_ng\n",
        "data_table.DataTable(data_ng, num_rows_per_page = 15)"
      ],
      "metadata": {
        "id": "pXlil6lt30gC"
      },
      "execution_count": null,
      "outputs": []
    },
    {
      "cell_type": "code",
      "source": [
        "# Documents Projection based on Words. (An interactive plot). It returns the Projection (each document coordinate) and the Labels (each document cluster)\n",
        "# Arguments: view              = 'notebook', 'browser' ('notebook' -> To plot in your prefered Notebook App. 'browser' -> To plot in your prefered browser window);\n",
        "#            corpus_type       = 'abs', 'title', 'kwa', or 'kwp';\n",
        "#            stop_words        = A list of stopwords to clean the corpus. ['ar', 'bn', 'bg', 'cs', 'en', 'fi', 'fr', 'de', 'el', 'hi', 'he', 'hu', 'it', 'ja', 'ko',  'mr', 'fa', 'pl', 'pt-br', 'ro', 'ru', 'es', 'sv', 'sk', 'zh', 'th', 'uk'];\n",
        "#                                'ar' = Arabic; 'bn' = Bengali; 'bg' = Bulgarian; 'cs' = Czech; 'en' = English; 'fi' = Finnish; 'fr' = French; 'de' = German; 'el' = Greek; 'he' = Hebrew;'hi' = Hindi; 'hu' = Hungarian; 'it' = Italian;\n",
        "#                                'ja' = Japanese; 'ko' = Korean; 'mr' =  Marathi; 'fa' =  Persian; 'pl' =  Polish; 'pt-br' = Potuguese-Brazilian; 'ro' = Romanian; 'ru' = Russian; 'es' =  Spanish; 'sk' = Slovak; 'sv' = Swedish;\n",
        "#                                'zh' = Chinese; 'th' = Thai; 'uk' = Ukrainian\n",
        "#            rmv_custom_words  = A list of custom stopwords to clean the corpus;\n",
        "#            custom_label      = A list of custom labels for each document. The user can define each document cluster;\n",
        "#            custom_projection = A list of custom coordinates for each document. The user can define each document coordinate;\n",
        "#            n_components      = Number of Dimensions;\n",
        "#            n_clusters        = Only relevant if  cluster_method = 'kmeans'.Number of Clusters.;\n",
        "#            node_labels       = If True, labels appear in nodes;\n",
        "#            node_size         = Node size;\n",
        "#            node_font_size    = Node font size;\n",
        "#            tf_idf            = True or False (True -> The Cluster Algorithm will use the DTM to calculate each document Label. False -> The Cluster Algorithm will use the Coordinates to calculate each document Label);\n",
        "#            embeddings        = True or False (True -> The Cluster Algorithm will use the Word Embeddings to calculate each document Label. False -> The Cluster Algorithm will use the Coordinates to calculate each document Label);\n",
        "#            model             = Only relevant if 'embeddings = True'. Specifies the used AI model. The default value is 'allenai/scibert_scivocab_uncased';\n",
        "#            method            = 'tsvd' or 'umap' ('tsvd' -> Truncated SVD projection method is used. 'umap' -> UMAP projection method is used);\n",
        "#            showlegend        = If True, shows legend;\n",
        "#            cluster_method    = 'kmeans' or 'hdbscan';\n",
        "#            min_size          = Only relevant if  cluster_method = 'hdbscan'. Minimum number of elements in a Cluster;\n",
        "#            max_size          = Only relevant if  cluster_method = 'hdbscan'. Maximum number of elements in a Cluster\n",
        "projection, labels = bibfile.docs_projection(view              = 'notebook',\n",
        "                                             corpus_type       = 'abs',\n",
        "                                             stop_words        = ['en'],\n",
        "                                             rmv_custom_words  = [],\n",
        "                                             custom_label      = [],\n",
        "                                             custom_projection = [],\n",
        "                                             n_components      = 2,\n",
        "                                             n_clusters        = 5,\n",
        "                                             node_labels       = True,\n",
        "                                             node_size         = 12,\n",
        "                                             node_font_size    = 5,\n",
        "                                             tf_idf            = False,\n",
        "                                             embeddings        = False,\n",
        "                                             model             = 'allenai/scibert_scivocab_uncased',\n",
        "                                             method            = 'umap',\n",
        "                                             showlegend        = True,\n",
        "                                             cluster_method    = 'kmeans',\n",
        "                                             min_size          = 5,\n",
        "                                             max_size          = 50\n",
        "                                             )"
      ],
      "metadata": {
        "id": "2v_vfk-60PRz"
      },
      "execution_count": null,
      "outputs": []
    },
    {
      "cell_type": "code",
      "source": [
        "# Check Table\n",
        "data_pr = pd.DataFrame(np.hstack([projection, labels.reshape(-1,1)]))\n",
        "data_table.DataTable(data_pr, num_rows_per_page = 15)"
      ],
      "metadata": {
        "id": "pvBkmPwk36MV"
      },
      "execution_count": null,
      "outputs": []
    },
    {
      "cell_type": "code",
      "source": [
        "# Check Articles per Cluster\n",
        "cluster      = 0\n",
        "idx_articles = [i for i in range(0, labels.shape[0]) if labels[i] == cluster]\n",
        "print(*idx_articles, sep = ', ')"
      ],
      "metadata": {
        "id": "FsLZD1zsDvDk"
      },
      "execution_count": null,
      "outputs": []
    },
    {
      "cell_type": "code",
      "source": [
        "# Arguments: view              = 'notebook', 'browser' ('notebook' -> To plot in your prefered Notebook App. 'browser' -> To plot in your prefered browser window);\n",
        "#            key               = 'abs', 'title', 'jou, 'kwa', or 'kwp';\n",
        "#            stop_words        = A list of stopwords to clean the corpus. ['ar', 'bn', 'bg', 'cs', 'en', 'fi', 'fr', 'de', 'el', 'hi', 'he', 'hu', 'it', 'ja', 'ko',  'mr', 'fa', 'pl', 'pt-br', 'ro', 'ru', 'es', 'sv', 'sk', 'zh', 'th', 'uk'];\n",
        "#                                'ar' = Arabic; 'bn' = Bengali; 'bg' = Bulgarian; 'cs' = Czech; 'en' = English; 'fi' = Finnish; 'fr' = French; 'de' = German; 'el' = Greek; 'he' = Hebrew;'hi' = Hindi; 'hu' = Hungarian; 'it' = Italian;\n",
        "#                                'ja' = Japanese; 'ko' = Korean; 'mr' =  Marathi; 'fa' =  Persian; 'pl' =  Polish; 'pt-br' = Potuguese-Brazilian; 'ro' = Romanian; 'ru' = Russian; 'es' =  Spanish; 'sk' = Slovak; 'sv' = Swedish;\n",
        "#                                'zh' = Chinese; 'th' = Thai; 'uk' = Ukrainian\n",
        "#            rmv_custom_words  = A list of custom stopwords to clean the corpus;\n",
        "#            topn              = Total number entities;\n",
        "#            txt_font_size     = Font size of the text inside the bins;\n",
        "#            start             = Start Year; -1 = all years\n",
        "#            end               = End Year;   -1 = all years\n",
        "bibfile.plot_evolution_year(view             = 'notebook',\n",
        "                            stop_words       = ['en'],\n",
        "                            rmv_custom_words = [],\n",
        "                            key              = 'abs',\n",
        "                            topn             = 10,\n",
        "                            txt_font_size    = 12,\n",
        "                            start            = 2010,\n",
        "                            end              = 2021)"
      ],
      "metadata": {
        "id": "l11mKYgT1O5P"
      },
      "execution_count": null,
      "outputs": []
    },
    {
      "cell_type": "code",
      "source": [
        "# View Table\n",
        "data_ep = bibfile.ask_gpt_ep\n",
        "print(textwrap.fill(data_ep, 150))"
      ],
      "metadata": {
        "id": "IsEl4atk4Fwy"
      },
      "execution_count": null,
      "outputs": []
    },
    {
      "cell_type": "code",
      "source": [
        "# Arguments: view              = 'notebook', 'browser' ('notebook' -> To plot in your prefered Notebook App. 'browser' -> To plot in your prefered browser window);\n",
        "#            topn              = Most frequent n words\n",
        "#            custom            = Plot specific words\n",
        "bibfile.plot_evolution_year_complement(data_ep, view = 'notebook', topn = 10, custom = [])"
      ],
      "metadata": {
        "id": "zIc4H1CrXTr-"
      },
      "execution_count": null,
      "outputs": []
    },
    {
      "cell_type": "code",
      "source": [
        "# Sankey Diagram (An interactive plot)\n",
        "# Arguments:\n",
        "#   view         : Determines the rendering mode.'notebook' -> Plots in your preferred Notebook app. 'browser'  -> Plots in your preferred browser window.\n",
        "#   entry        : A list defining the sequence of data columns to be visualized. Allowed keys: 'aut', 'cout', 'inst', 'jou', 'kwa', 'kwp', 'lan'\n",
        "#   rmv_unknowns : Boolean flag controlling how unknown entries are handled. True  -> Remove any relationships that include 'unknown'.\n",
        "#   topn         : Specifies the maximum number of top entities/connections to display at each level. Set to \"None\" for no filtering or provide a list with limits corresponding to each connection between the nodes defined in 'entry'.\n",
        "bibfile.sankey_diagram(view = 'notebook', entry = ['aut', 'cout', 'lan'], topn = [3, 5], rmv_unknowns = True)\n",
        "\n",
        "# PS: The white bars can be dragged"
      ],
      "metadata": {
        "id": "nuUYvtG2_BoS"
      },
      "execution_count": null,
      "outputs": []
    },
    {
      "cell_type": "code",
      "source": [
        "# View Table\n",
        "data_sk = bibfile.ask_gpt_sk\n",
        "data_table.DataTable(data_sk, num_rows_per_page = 15)"
      ],
      "metadata": {
        "id": "DsTaS_h18Gzz"
      },
      "execution_count": null,
      "outputs": []
    },
    {
      "cell_type": "code",
      "source": [
        "# Plot Count Y per X (An interactive bar chart)\n",
        "# Arguments:\n",
        "#   view          : Determines where the plot will be rendered. 'browser'  -> Plots in your preferred browser window. 'notebook' -> (if supported) Plots within your notebook environment.\n",
        "#   rmv_unknowns  : Boolean flag to handle unknown entries. True  -> Removes any relationships containing unknown values.\n",
        "#   x             : The key (column) to use for the X-axis. Must be one of: 'aut', 'cout', 'inst', 'jou', 'kwa', 'kwp', 'lan'. Default is 'cout'.\n",
        "#   y             : The key (column) to use for the Y-axis. Must be one of: 'aut', 'cout', 'inst', 'jou', 'kwa', 'kwp', 'lan'. Default is 'aut'.\n",
        "#   topn_x        : Maximum number of top X categories (based on total counts) to display. Default is 5.\n",
        "#   topn_y        : Maximum number of top Y entries (per X category) to display. Default is 5.\n",
        "#   text_font_size: Font size for the text labels displayed inside the bars. Default is 12.\n",
        "#   x_angle       : Angle (in degrees) for the X-axis tick labels. Default is -90 (rotating labels vertically).\n",
        "bibfile.plot_count_y_per_x(view = 'notebook', rmv_unknowns = True, x = 'cout', y = 'aut', topn_x = 5, topn_y = 5, text_font_size = 12, x_angle = -90)"
      ],
      "metadata": {
        "id": "nbIJzq_XyDL5"
      },
      "execution_count": null,
      "outputs": []
    },
    {
      "cell_type": "code",
      "source": [
        "# View Table\n",
        "data_table.DataTable(bibfile.top_y_x, num_rows_per_page = 15)"
      ],
      "metadata": {
        "id": "tr1O5D5CyEc-"
      },
      "execution_count": null,
      "outputs": []
    },
    {
      "cell_type": "code",
      "source": [
        "# Tree Map\n",
        "# Arguments: view          = 'notebook', 'browser' ('notebook' -> To plot in your prefered Notebook App. 'browser' -> To plot in your prefered browser window);\n",
        "#            entry         = 'kwp', 'kwa', 'aut', 'jou', 'ctr', or 'inst';\n",
        "#            topn          = Total number entities\n",
        "#            txt_font_size = Font size of the text inside the bins;\n",
        "bibfile.tree_map(view = 'notebook', entry = 'jou', topn = 20)"
      ],
      "metadata": {
        "id": "EesskT3t1Rtv"
      },
      "execution_count": null,
      "outputs": []
    },
    {
      "cell_type": "code",
      "source": [
        "# Authors Productivity Plot (An interactive plot). It informs for each year the documents (IDs) published for each author\n",
        "# Arguments: view = 'notebook', 'browser' ('notebook' -> To plot in your prefered Notebook App. 'browser' -> To plot in your prefered browser window);\n",
        "#            topn = Total number entities\n",
        "bibfile.authors_productivity(view = 'notebook', topn = 20)"
      ],
      "metadata": {
        "id": "FEP8AVp61W-Q"
      },
      "execution_count": null,
      "outputs": []
    },
    {
      "cell_type": "code",
      "source": [
        "# View Table\n",
        "data_ap = bibfile.ask_gpt_ap\n",
        "data_table.DataTable(data_ap, num_rows_per_page = 15)"
      ],
      "metadata": {
        "id": "bcuNgfE34awJ"
      },
      "execution_count": null,
      "outputs": []
    },
    {
      "cell_type": "code",
      "source": [
        "# Countries Productivity Plot (An interactive plot). It informs the production for each Country (count is made considering each doc author)\n",
        "# Arguments: view = 'notebook', 'browser' ('notebook' -> To plot in your prefered Notebook App. 'browser' -> To plot in your prefered browser window);\n",
        "bibfile.countries_productivity(view = 'notebook')"
      ],
      "metadata": {
        "id": "Ns1MSR6yWBog"
      },
      "execution_count": null,
      "outputs": []
    },
    {
      "cell_type": "code",
      "source": [
        "# View Table\n",
        "data_cp = bibfile.ask_gpt_cp\n",
        "data_table.DataTable(data_cp, num_rows_per_page = 15)"
      ],
      "metadata": {
        "id": "p3RqTVNIF0Mv"
      },
      "execution_count": null,
      "outputs": []
    },
    {
      "cell_type": "code",
      "source": [
        "# Institutions Productivity Plot (An interactive plot). It informs for each year the documents (IDs) published for each institution\n",
        "# Arguments: view = 'notebook', 'browser' ('notebook' -> To plot in your prefered Notebook App. 'browser' -> To plot in your prefered browser window);\n",
        "#            topn = Total number entities\n",
        "bibfile.institution_productivity(view = 'notebook', topn = 20)"
      ],
      "metadata": {
        "id": "4jfag87MGIDC"
      },
      "execution_count": null,
      "outputs": []
    },
    {
      "cell_type": "code",
      "source": [
        "# View Table\n",
        "data_ip = bibfile.ask_gpt_ip\n",
        "data_table.DataTable(data_ip, num_rows_per_page = 15)"
      ],
      "metadata": {
        "id": "xd5-qy8uGOVD"
      },
      "execution_count": null,
      "outputs": []
    },
    {
      "cell_type": "code",
      "source": [
        "# Sources Productivity Plot (An interactive plot). It informs for each year the documents (IDs) published for each source (journal)\n",
        "# Arguments: view = 'notebook', 'browser' ('notebook' -> To plot in your prefered Notebook App. 'browser' -> To plot in your prefered browser window);\n",
        "#            topn = Total number entities\n",
        "bibfile.source_productivity(view = 'notebook', topn = 20)"
      ],
      "metadata": {
        "id": "u0rpeJTAGT1Y"
      },
      "execution_count": null,
      "outputs": []
    },
    {
      "cell_type": "code",
      "source": [
        "# View Table\n",
        "data_sp = bibfile.ask_gpt_sp\n",
        "data_table.DataTable(data_sp, num_rows_per_page = 15)"
      ],
      "metadata": {
        "id": "XpXLzmaXGZVz"
      },
      "execution_count": null,
      "outputs": []
    },
    {
      "cell_type": "code",
      "source": [
        "# Bar Plots\n",
        "# Arguments: view = 'notebook', 'browser' ('notebook' -> To plot in your prefered Notebook App. 'browser' -> To plot in your prefered browser window);\n",
        "#                    statistic = 'dpy', 'cpy', 'ppy', 'ltk', 'spd', 'spc', 'apd', 'apc', 'aph', 'bdf_1', 'bdf_2', 'bdf_3', 'ipd', 'ipc', 'cpd', 'cpc', 'lpd', 'kpd', 'kad'\n",
        "#                        'dpy' = Documents per Year\n",
        "#                         cpy' = Citations per Year\n",
        "#                        'ppy' = Past Citations per Year\n",
        "#                        'ltk' = Lotka's Law\n",
        "#                        'spd' = Sources per Documents\n",
        "#                        'spc' = Sources per Citations\n",
        "#                        'apd' = Authors per Documents\n",
        "#                        'apc' = Authors per Citations\n",
        "#                        'aph' = Authors per H-Index\n",
        "#                        'bdf_1', 'bdf_2', 'bdf_3' = Bradford's Law - Core Sources 1, 2 or 3\n",
        "#                        'ipd' = Institutions per Documents\n",
        "#                        'ipc' = Institutions per Citations\n",
        "#                        'cpd' = Countries per Documents\n",
        "#                        'cpc' = Countries per Citations\n",
        "#                        'lpd' = Language per Documents\n",
        "#                        'kpd' = Keywords Plus per Documents\n",
        "#                        'kad' = Authors' Keywords per Documents\n",
        "#                         topn = Total number entities\n",
        "bibfile.plot_bars(view = 'notebook', statistic = 'apd', topn = 20)"
      ],
      "metadata": {
        "id": "yb6ANMQQ1fGv"
      },
      "execution_count": null,
      "outputs": []
    },
    {
      "cell_type": "code",
      "source": [
        "# View Table\n",
        "data_bp = bibfile.ask_gpt_bp\n",
        "data_table.DataTable(data_bp, num_rows_per_page = 15)"
      ],
      "metadata": {
        "id": "vH7uXNWI4igv"
      },
      "execution_count": null,
      "outputs": []
    },
    {
      "cell_type": "code",
      "source": [
        "# Plot Top References\n",
        "# Arguments: view       = 'notebook', 'browser' ('notebook' -> To plot in your prefered Notebook App. 'browser' -> To plot in your prefered browser window);\n",
        "#            topn       = Specifies the number of top references (by citation count) to display in the plot;\n",
        "#            font_size  = Controls the font size of the legend in the plot;\n",
        "#            use_ref_id = Chooses between using reference names or reference IDs when processing and plotting data;\n",
        "#            date_start = If provided, shows citing articles with a publication year greater than or equal to this value are included. If None, then there is no lower limit on the publication year.\n",
        "#            date_end   = If provided, shows citing articles with a publication year less than or equal to this value are included. If None, then there is no upprer limit on the publication year.\n",
        "bibfile.plot_top_refs(view = 'notebook', topn = 10, font_size = 10, use_ref_id = False, date_start = None, date_end = None)"
      ],
      "metadata": {
        "id": "-OjEbgQUzdkS"
      },
      "execution_count": null,
      "outputs": []
    },
    {
      "cell_type": "code",
      "source": [
        "# Check Top References\n",
        "data_table.DataTable(bibfile.top_refs, num_rows_per_page = 15)\n",
        "\n",
        "# PS: Optionally, use 'bibfile.merge_reference(get = [], replace_for = 'name' )' to correct References\n",
        "# wrong_references = [\n",
        "#                     'Mousseau, V., Slowinski, R., Inferring an ELECTRE TRI model from assignment examples (1998) Journal of Global Optimization, 12, pp. 157-174',\n",
        "#                     'Mousseau, V., Słowiński, R., Inferring an ELECTRE TRI model from assignment examples (1998) Journal of Global Optimization, 12 (2), pp. 157-174'\n",
        "#                    ]\n",
        "# correct_reference = 'Mousseau, V., Slowinski, R., Inferring an ELECTRE TRI model from assignment examples (1998) Journal of Global Optimization, 12 (2), pp. 157-174'\n",
        "# bibfile.merge_reference(get = wrong_references, replace_for = correct_reference)"
      ],
      "metadata": {
        "id": "wJqKO1lb1FCr"
      },
      "execution_count": null,
      "outputs": []
    },
    {
      "cell_type": "code",
      "source": [
        "# Citation Trajectory\n",
        "# Arguments: view     = 'notebook', 'browser' ('notebook' -> To plot in your prefered Notebook App. 'browser' -> To plot in your prefered browser window);\n",
        "#           ref_names = If provided (i.e., nonempty), the function uses these reference names to track and plot citation trajectories;\n",
        "#           ref_ids   = If ref_names is empty but ref_ids is provided, the function will use these IDs instead.\n",
        "bibfile.plot_citation_trajectory(view = 'notebook', ref_names = [], ref_ids = ['r_6640', 'r_5607'])"
      ],
      "metadata": {
        "id": "SdkYVOQ52Qor"
      },
      "execution_count": null,
      "outputs": []
    },
    {
      "cell_type": "code",
      "source": [
        "# References Citation Matrix\n",
        "# Arguments: tgt_ref_id = For a nonempty list, show olny the references in the list. An empty list (the default), shows all references;\n",
        "#            date_start = If provided, shows citing articles with a publication year greater than or equal to this value are included. If None, then there is no lower limit on the publication year;\n",
        "#            date_end   = If provided, shows citing articles with a publication year less than or equal to this value are included. If None, then there is no upprer limit on the publication year.\n",
        "ct_matrix = bibfile.ref_citation_matrix(tgt_ref_id = ['r_6640', 'r_5607'], date_start = None, date_end = None)\n",
        "\n",
        "# Check Citation Matrix. Citing Articles are in the format (Article ID, Year)\n",
        "ct_matrix"
      ],
      "metadata": {
        "id": "ka1c9WhQ2wwe"
      },
      "execution_count": null,
      "outputs": []
    },
    {
      "cell_type": "code",
      "source": [
        "# RPYS (Reference Publication Year Spectroscopy) with Gaussian Filter to Find Peaks\n",
        "# Arguments: view       = 'notebook', 'browser' ('notebook' -> To plot in your prefered Notebook App. 'browser' -> To plot in your prefered browser window);\n",
        "#            peaks_only = If False, the function plots data for all publication years. If True, shows only peaks.\n",
        "bibfile.plot_rpys(view = 'notebook', peaks_only = False)\n",
        "\n",
        "# PS: Use the Slider to focus in a range of years"
      ],
      "metadata": {
        "id": "tt2Pi_ih285w"
      },
      "execution_count": null,
      "outputs": []
    },
    {
      "cell_type": "code",
      "source": [
        "# Check RPYS Data\n",
        "data_table.DataTable(bibfile.rpys_rs, num_rows_per_page = 15)"
      ],
      "metadata": {
        "id": "BQvPgs1-3IIm"
      },
      "execution_count": null,
      "outputs": []
    },
    {
      "cell_type": "code",
      "source": [
        "# Check RPYS Data Peaks\n",
        "data_table.DataTable(bibfile.rpys_pk, num_rows_per_page = 15)"
      ],
      "metadata": {
        "id": "4WTtpbc53IqS"
      },
      "execution_count": null,
      "outputs": []
    },
    {
      "cell_type": "markdown",
      "source": [
        "# Network Analysis\n",
        "---\n",
        "In this section, we will perform Network Analysis"
      ],
      "metadata": {
        "id": "a2mwNf7Lc7MK"
      }
    },
    {
      "cell_type": "code",
      "source": [
        "# References Top Cited Co-References\n",
        "# Arguments: groups = controls how many references are considered together;\n",
        "#            topn   = Specifies the number of top references (by citation count) to display in the plot;\n",
        "bibfile.top_cited_co_references(group = 2, topn = 10)"
      ],
      "metadata": {
        "id": "Vm4eoO6hQ7Xk"
      },
      "execution_count": null,
      "outputs": []
    },
    {
      "cell_type": "code",
      "source": [
        "# Plot Co-Citation Network\n",
        "# Arguments:  view       = 'notebook', 'browser' ('notebook' -> To plot in your prefered Notebook App. 'browser' -> To plot in your prefered browser window);\n",
        "#             tgt_ref_id = The reference ID;\n",
        "#             topn       = Specifies the number of top references (by citation count) to display in the plot;\n",
        "bibfile.plot_co_citation_network(view = 'notebook', target_ref_id = 'r_1', topn = 10)"
      ],
      "metadata": {
        "id": "PKEfXEABRBXf"
      },
      "execution_count": null,
      "outputs": []
    },
    {
      "cell_type": "code",
      "source": [
        "# Check Co-Citation Network\n",
        "data_table.DataTable(bibfile.top_co_c, num_rows_per_page = 15)"
      ],
      "metadata": {
        "id": "a415z7JxRK6h"
      },
      "execution_count": null,
      "outputs": []
    },
    {
      "cell_type": "code",
      "source": [
        "# Arguments:\n",
        "# entry      = 'aut', 'cout', 'inst', 'kwa', or 'kwp'.\n",
        "# tgt        = List of specific names.\n",
        "# topn       = Integer. Specifies the number of top authors to display based on their total contributions.\n",
        "# rows       = Integer. Defines the number of rows in the subplot grid for the visual layout.\n",
        "# cols       = Integer. Defines the number of columns in the subplot grid for the visual layout.\n",
        "# wspace     = Float. Adjusts horizontal spacing between subplots.\n",
        "# hspace     = Float. Adjusts vertical spacing between subplots.\n",
        "# tspace     = Float. Sets additional vertical space between nodes and labels for better readability.\n",
        "# node_size  = Integer. Controls the size of each node in the network graph.\n",
        "# font_size  = Integer. Defines the font size for node labels.\n",
        "# pad        = Float. Adjusts padding around the layout for a balanced appearance.\n",
        "# nd_a       = Color string (e.g., '#FF0000'). Specifies the color for the primary node (main author).\n",
        "# nd_b       = Color string (e.g., '#008000'). Specifies the color for secondary nodes (authors with significant links).\n",
        "# nd_c       = Color string (e.g., '#808080'). Specifies the color for other nodes (authors with minor links).\n",
        "# verbose    = Boolean. If True, prints details of each main node and its connections in the console; if False, suppresses this output.\n",
        "bibfile.network_collab( entry     = 'aut',\n",
        "                        tgt       = [],\n",
        "                        topn      = 15,\n",
        "                        rows      = 5,\n",
        "                        cols      = 3,\n",
        "                        wspace    = 0.2,\n",
        "                        hspace    = 0.2,\n",
        "                        tspace    = 0.01,\n",
        "                        node_size = 300,\n",
        "                        font_size = 8,\n",
        "                        pad       = 0.2,\n",
        "                        nd_a      = '#FF0000',\n",
        "                        nd_b      = '#008000',\n",
        "                        nd_c      = '#808080',\n",
        "                        verbose   = True)"
      ],
      "metadata": {
        "id": "TJL4OD_Ga3T3"
      },
      "execution_count": null,
      "outputs": []
    },
    {
      "cell_type": "code",
      "source": [
        "print(bibfile.ask_gpt_ct)"
      ],
      "metadata": {
        "id": "gA1p180ha4u1"
      },
      "execution_count": null,
      "outputs": []
    },
    {
      "cell_type": "code",
      "source": [
        "# Network - Citation Analisys Between Documents (Blue Nodes) and Citations (Red Nodes).  (An interactive plot).\n",
        "# Arguments: view        = 'notebook', 'browser' ('notebook' -> To plot in your prefered Notebook App. 'browser' -> To plot in your prefered browser window);\n",
        "#            min_count   = Relationship between nodes that have been cited at least x times;\n",
        "#            node_labels = True or False (True -> The label IDs will be displayed, False -> Only the nodes will be displayed );\n",
        "#            node_size   = Integer. Value for node size;\n",
        "#            font_size   = Integer. Defines the font size for node labels;\n",
        "#            local_nodes = True or False (True -> Only the blue will be displayed, False -> Red and Blue nodes will be displayed)\n",
        "bibfile.network_adj_dir(view = 'notebook', min_count = 10, node_labels = True, node_size = 20, local_nodes = False)"
      ],
      "metadata": {
        "id": "E4RgBTJ41htw"
      },
      "execution_count": null,
      "outputs": []
    },
    {
      "cell_type": "code",
      "source": [
        "# View Table\n",
        "data_nad = bibfile.ask_gpt_nad\n",
        "data_table.DataTable(data_nad, num_rows_per_page = 15)"
      ],
      "metadata": {
        "id": "a8Se4gsd4pUG"
      },
      "execution_count": null,
      "outputs": []
    },
    {
      "cell_type": "code",
      "source": [
        "# Network - Highlight Citation Analysis Between Documents (Blue Nodes) and Citations (Red Nodes).  (An interactive plot).\n",
        "# Arguments: view        = 'notebook', 'browser' ('notebook' -> To plot in your prefered Notebook App. 'browser' -> To plot in your prefered browser window);\n",
        "#            article_ids = A list of Blue Nodes. It indicates the documents cited by them;\n",
        "#            ref_ids     = A list of Red Nodes. It indicates the documents that cites them;\n",
        "#            font_size   = Integer. Defines the font size for node labels;\n",
        "#            node_size   = Integer. Value for node size\n",
        "bibfile.find_nodes_dir(view = 'notebook', article_ids = [], ref_ids = [], node_size = 20)"
      ],
      "metadata": {
        "id": "l8Pwz7141kDE"
      },
      "execution_count": null,
      "outputs": []
    },
    {
      "cell_type": "code",
      "source": [
        "# Network - Highlight Citation Analysis Between Documents (Blue Nodes) and Citations (Red Nodes).  (An interactive plot).\n",
        "# Arguments: view        = 'notebook', 'browser' ('notebook' -> To plot in your prefered Notebook App. 'browser' -> To plot in your prefered browser window);\n",
        "#            article_ids = A list of Blue Nodes. It indicates the documents cited by them;\n",
        "#            ref_ids     = A list of Red Nodes. It indicates the documents that cites them;\n",
        "#            font_size   = Integer. Defines the font size for node labels;\n",
        "#            node_size   = Integer. Value for node size\n",
        "bibfile.find_nodes_dir(view = 'notebook', article_ids = [], ref_ids = ['r_1409'], node_size = 20)"
      ],
      "metadata": {
        "id": "Xy8lhPNs1mpU"
      },
      "execution_count": null,
      "outputs": []
    },
    {
      "cell_type": "code",
      "source": [
        "# Network - Local Documents (Only Blue Nodes) Citation History. (An interactive plot).\n",
        "# Arguments: view        = 'notebook', 'browser' ('notebook' -> To plot in your prefered Notebook App. 'browser' -> To plot in your prefered browser window);\n",
        "#            min_links   = Relationship between nodes that have connected at least x times;\n",
        "#            node_size   = Integer. Value for node size;\n",
        "#            font_size   = Integer. Defines the font size for node labels;\n",
        "#            node_labels = True or False (True -> The label IDs will be displayed, False -> Only the nodes will be displayed );\n",
        "#            chain       = A list of documents. It shows the documents and their citations;\n",
        "#            path       =  Only relevant if 'chain' is not empty. True -> Show only the documents in 'chain'. False -> Show documents and connections.\n",
        "citations = bibfile.network_hist(view = 'notebook', min_links = 0, chain = [], path = False, node_size = 20, node_labels = True)"
      ],
      "metadata": {
        "id": "Y8O5EjQp_BoW"
      },
      "execution_count": null,
      "outputs": []
    },
    {
      "cell_type": "code",
      "source": [
        "# View Table\n",
        "data_hist = bibfile.ask_gpt_hist\n",
        "data_table.DataTable(data_hist, num_rows_per_page = 15)"
      ],
      "metadata": {
        "id": "zzEx_ewz9mBa"
      },
      "execution_count": null,
      "outputs": []
    },
    {
      "cell_type": "code",
      "source": [
        "citations = bibfile.network_hist(view = 'notebook', min_links = 0, chain = [21, 208], path = False, node_size = 20, node_labels = True)"
      ],
      "metadata": {
        "id": "fVLRl1mT_BoX"
      },
      "execution_count": null,
      "outputs": []
    },
    {
      "cell_type": "code",
      "source": [
        "citations = bibfile.network_hist(view = 'notebook', min_links = 0, chain = [], path = True, node_size = 20, node_labels = True)"
      ],
      "metadata": {
        "id": "HUtq8EEQ_BoX"
      },
      "execution_count": null,
      "outputs": []
    },
    {
      "cell_type": "code",
      "source": [
        "# Network - Analyze Hist. Citations\n",
        "# Arguments: min_path_size = Minimum number of elements of a path.\n",
        "hist_paths = bibfile.analyze_hist_citations(citations, min_path_size = 2)"
      ],
      "metadata": {
        "id": "07lG_O0Wwclx"
      },
      "execution_count": null,
      "outputs": []
    },
    {
      "cell_type": "code",
      "source": [
        "# Network - Collaboration Analysis Between Authors, Countries, Intitutions Or Adjacency Analysis Between Authors' Keywords or Keywords Plus. (An interactive plot).\n",
        "# Arguments: view        = 'notebook', 'browser' ('notebook' -> To plot in your prefered Notebook App. 'browser' -> To plot in your prefered browser window);\n",
        "#            adj_type    = 'aut', 'cout', 'inst', 'kwa', or 'kwp'\n",
        "#            min_count   = Relationship between nodes that have connected at least x times;\n",
        "#            node_labels = True or False (True -> The label IDs will be displayed, False -> Only the nodes will be displayed );\n",
        "#            node_size   = -1. (If node_size = -1 then the default value will be used. If node_size > 0 then this new value will be used);\n",
        "#            label_type  = 'id', 'name' (Only meaningfull if node_labels = True. 'id' -> The ID will be displayed; 'name' -> The name will be displayed);\n",
        "#            centrality  = 'degree', 'load', 'betw', 'close', 'eigen', 'katz', 'harmonic', or None. Color nodes according to centrality criterion\n",
        "#                          'degree'   = Degree Centrality\n",
        "#                          'load'     = Load Centrality\n",
        "#                          'betw'     = Betweenness Centrality\n",
        "#                          'close'    = Closeness Centrality\n",
        "#                          'eigen'    = Eigenvector Centrality\n",
        "#                          'katz'     = Katz Centrality\n",
        "#                          'harmonic' = Harmonic Centrality\n",
        "#                           None      = The Community Algorithm, Girvan-Newman, will be used Instead of a Centrality Criterion\n",
        "bibfile.network_adj(view = 'notebook', adj_type = 'aut', min_count = 3, node_labels = True, label_type = 'name', centrality = None)\n",
        "\n",
        "# PS: If a centrality criterion is used then the values can be obtained by the following command:  bibfile.table_centr"
      ],
      "metadata": {
        "id": "46ftusq91yFS"
      },
      "execution_count": null,
      "outputs": []
    },
    {
      "cell_type": "code",
      "source": [
        "# View Table\n",
        "data_adj = bibfile.ask_gpt_adj\n",
        "data_table.DataTable(data_adj, num_rows_per_page = 15)"
      ],
      "metadata": {
        "id": "uXmh8vnA5KzO"
      },
      "execution_count": null,
      "outputs": []
    },
    {
      "cell_type": "code",
      "source": [
        "# Network - Highlight  Collaboration Analysis Between Authors, Countries, Intitutions Or Adjacency Analysis Between Authors' Keywords or Keywords Plus. (An interactive plot).\n",
        "# Arguments: view      = 'notebook', 'browser' ('notebook' -> To plot in your prefered Notebook App. 'browser' -> To plot in your prefered browser window);\n",
        "#            node_ids  = A list of IDs. Only meaningfull if label_type = 'id';\n",
        "#            node_name = A list of Names. Only meaningfull iflabel_type = 'name';\n",
        "#            node_only = True or False (True -> Only the Node will be Highlighted, False -> Node and its Connections will be Highlighted)\n",
        "bibfile.find_nodes(node_ids = [], node_name = [], node_only = False)"
      ],
      "metadata": {
        "id": "IYn_wOZx1y72"
      },
      "execution_count": null,
      "outputs": []
    },
    {
      "cell_type": "code",
      "source": [
        "# Network - Similarity Analysis using coupling or cocitation methods. (An interactive plot).\n",
        "# Arguments: view        = 'notebook', 'browser' ('notebook' -> To plot in your prefered Notebook App. 'browser' -> To plot in your prefered browser window);\n",
        "#            sim_type    = 'coup', 'cocit' ('coup' -> Coupling Method, 'cocit' -> Cocitation Method)\n",
        "#            node_size   = -1. (If node_size = -1 then the default value will be used. If node_size > 0 then this new value will be used);\n",
        "#            node_labels = True or False (True -> The label IDs will be displayed, False -> Only the nodes will be displayed );\n",
        "#            cut_coup    = Cutoff value for Coupling Method. Only meaninfull if sim_type = 'coup';\n",
        "#            cut_cocit   = Cutoff value for Cocitation Method. Only meaninfull if sim_type = 'cocit'\n",
        "bibfile.network_sim(view = 'notebook', sim_type = 'cocit', node_size = 10, node_labels = True, cut_coup = 0.3, cut_cocit = 10)"
      ],
      "metadata": {
        "id": "PlQ1t9Qa15RI"
      },
      "execution_count": null,
      "outputs": []
    },
    {
      "cell_type": "code",
      "source": [
        "# Check Similarity Values\n",
        "data_table.DataTable(bibfile.sim_table, num_rows_per_page = 15)"
      ],
      "metadata": {
        "id": "b1m58WT717ZC"
      },
      "execution_count": null,
      "outputs": []
    },
    {
      "cell_type": "code",
      "source": [
        "# Network - Collaboration Analysis Between Countries using a Map. (An interactive plot).\n",
        "# Arguments: view        = 'notebook', 'browser' ('notebook' -> To plot in your prefered Notebook App. 'browser' -> To plot in your prefered browser window);\n",
        "#            connections = True or False (True -> Countries connections will be displayed, False -> Countries connections will not be displayed);\n",
        "#            country_lst = Highlight the Connections Between a List of Countries\n",
        "bibfile.network_adj_map(view = 'notebook', connections = True, country_lst = [])"
      ],
      "metadata": {
        "id": "dxcYcj4519c3"
      },
      "execution_count": null,
      "outputs": []
    },
    {
      "cell_type": "code",
      "source": [
        "# View Table\n",
        "data_map = bibfile.ask_gpt_map\n",
        "data_table.DataTable(data_map, num_rows_per_page = 15)"
      ],
      "metadata": {
        "id": "_HVvJmkm5MtS"
      },
      "execution_count": null,
      "outputs": []
    },
    {
      "cell_type": "code",
      "source": [
        "# Network - Collaboration Analysis Between Countries using a Map. (An interactive plot).\n",
        "# Arguments: view        = 'notebook', 'browser' ('notebook' -> To plot in your prefered Notebook App. 'browser' -> To plot in your prefered browser window);\n",
        "#            connections = True or False (True -> Countries connections will be displayed, False -> Countries connections will not be displayed);\n",
        "#            country_lst = Highlight the Connections Between a List of Countries\n",
        "bibfile.network_adj_map(view = 'notebook', connections = False, country_lst = [])"
      ],
      "metadata": {
        "id": "fUYLR89T1_nl"
      },
      "execution_count": null,
      "outputs": []
    },
    {
      "cell_type": "markdown",
      "source": [
        "# Artificial Intelligence Analysis\n",
        "---\n",
        "In this section, we will perform AI Analysis"
      ],
      "metadata": {
        "id": "lWlqxpxUd0DT"
      }
    },
    {
      "cell_type": "code",
      "source": [
        "# NLP\n",
        "# Arguments: corpus_type       = 'abs', 'title', 'kwa', or 'kwp';\n",
        "#            stop_words        = A list of stopwords to clean the corpus. ['ar', 'bn', 'bg', 'cs', 'en', 'fi', 'fr', 'de', 'el', 'hi', 'he', 'hu', 'it', 'ja', 'ko',  'mr', 'fa', 'pl', 'pt-br', 'ro', 'ru', 'es', 'sv', 'sk', 'zh', 'th', 'uk'];\n",
        "#                                'ar' = Arabic; 'bn' = Bengali; 'bg' = Bulgarian; 'cs' = Czech; 'en' = English; 'fi' = Finnish; 'fr' = French; 'de' = German; 'el' = Greek; 'he' = Hebrew;'hi' = Hindi; 'hu' = Hungarian; 'it' = Italian;\n",
        "#                                'ja' = Japanese; 'ko' = Korean; 'mr' =  Marathi; 'fa' =  Persian; 'pl' =  Polish; 'pt-br' = Potuguese-Brazilian; 'ro' = Romanian; 'ru' = Russian; 'es' =  Spanish; 'sk' = Slovak; 'sv' = Swedish;\n",
        "#                                'zh' = Chinese; 'th' = Thai; 'uk' = Ukrainian\n",
        "#            rmv_custom_words  = A list of custom stopwords to clean the corpus;\n",
        "#            model             = Specifies the used AI model. The default value is 'allenai/scibert_scivocab_uncased'\n",
        "bibfile.create_embeddings(stop_words = ['en'], rmv_custom_words = [], corpus_type = 'abs', model = 'allenai/scibert_scivocab_uncased')\n",
        "emb = bibfile.embds"
      ],
      "metadata": {
        "id": "bPyyfcLv-Npe"
      },
      "execution_count": null,
      "outputs": []
    },
    {
      "cell_type": "code",
      "source": [
        "# NLP #-1 refers to all outliers and should typically be ignored.\n",
        "# Arguments: stop_words        = A list of stopwords to clean the corpus. ['ar', 'bn', 'bg', 'cs', 'en', 'fi', 'fr', 'de', 'el', 'hi', 'he', 'hu', 'it', 'ja', 'ko',  'mr', 'fa', 'pl', 'pt-br', 'ro', 'ru', 'es', 'sv', 'sk', 'zh', 'th', 'uk'];\n",
        "#                              'ar' = Arabic; 'bn' = Bengali; 'bg' = Bulgarian; 'cs' = Czech; 'en' = English; 'fi' = Finnish; 'fr' = French; 'de' = German; 'el' = Greek; 'he' = Hebrew;'hi' = Hindi; 'hu' = Hungarian; 'it' = Italian;\n",
        "#                              'ja' = Japanese; 'ko' = Korean; 'mr' =  Marathi; 'fa' =  Persian; 'pl' =  Polish; 'pt-br' = Potuguese-Brazilian; 'ro' = Romanian; 'ru' = Russian; 'es' =  Spanish; 'sk' = Slovak; 'sv' = Swedish;\n",
        "#                              'zh' = Chinese; 'th' = Thai; 'uk' = Ukrainianian;   'es' =  Spanish;  'sv' = Swedish\n",
        "#            rmv_custom_words  = A list of custom stopwords to clean the corpus;\n",
        "#            embeddings        = True or False. If True then word embeddings are used to create the topics\n",
        "#            model             = Specifies the used AI model. The default value is 'allenai/scibert_scivocab_uncased'\n",
        "bibfile.topics_creation(stop_words = ['en'], rmv_custom_words = [], embeddings = False, model = 'allenai/scibert_scivocab_uncased')"
      ],
      "metadata": {
        "id": "MnwPF-8pInGa"
      },
      "execution_count": null,
      "outputs": []
    },
    {
      "cell_type": "code",
      "source": [
        "# Authors Production per Topic\n",
        "production_topics = bibfile.topics_authors(topn = 15)\n",
        "production_topics"
      ],
      "metadata": {
        "id": "8VHmKu7VcoxP"
      },
      "execution_count": null,
      "outputs": []
    },
    {
      "cell_type": "code",
      "source": [
        "# NLP\n",
        "# Each document Topic\n",
        "topics = bibfile.topics"
      ],
      "metadata": {
        "id": "mY_MhzS4Inw-"
      },
      "execution_count": null,
      "outputs": []
    },
    {
      "cell_type": "code",
      "source": [
        "# NLP\n",
        "# Each document Probability to belong a Topic\n",
        "probs = bibfile.probs"
      ],
      "metadata": {
        "id": "hvpyHGapIqf3"
      },
      "execution_count": null,
      "outputs": []
    },
    {
      "cell_type": "code",
      "source": [
        "# NLP\n",
        "# Arguments: view = 'notebook', 'browser' ('notebook' -> To plot in your prefered Notebook App. 'browser' -> To plot in your prefered browser window)\n",
        "bibfile.graph_topics_distribution(view = 'notebook')"
      ],
      "metadata": {
        "id": "dOcdN3ihIu0I"
      },
      "execution_count": null,
      "outputs": []
    },
    {
      "cell_type": "code",
      "source": [
        "# NLP\n",
        "# Arguments: view = 'notebook', 'browser' ('notebook' -> To plot in your prefered Notebook App. 'browser' -> To plot in your prefered browser window)\n",
        "bibfile.graph_topics(view = 'notebook')"
      ],
      "metadata": {
        "id": "K2rYYbOlIyXk"
      },
      "execution_count": null,
      "outputs": []
    },
    {
      "cell_type": "code",
      "source": [
        "# NLP\n",
        "# Arguments: view = 'notebook', 'browser' ('notebook' -> To plot in your prefered Notebook App. 'browser' -> To plot in your prefered browser window)\n",
        "bibfile.graph_topics_projection(view = 'notebook')"
      ],
      "metadata": {
        "id": "fKyPK1LxIzD9"
      },
      "execution_count": null,
      "outputs": []
    },
    {
      "cell_type": "code",
      "source": [
        "# NLP\n",
        "# Arguments: view = 'notebook', 'browser' ('notebook' -> To plot in your prefered Notebook App. 'browser' -> To plot in your prefered browser window)\n",
        "bibfile.graph_topics_heatmap(view = 'notebook')"
      ],
      "metadata": {
        "id": "DcmcjNDpI16_"
      },
      "execution_count": null,
      "outputs": []
    },
    {
      "cell_type": "code",
      "source": [
        "# NLP\n",
        "# Arguments: view = 'notebook', 'browser' ('notebook' -> To plot in your prefered Notebook App. 'browser' -> To plot in your prefered browser window)\n",
        "bibfile.graph_topics_time(view = 'notebook')"
      ],
      "metadata": {
        "id": "hrv4ks5sH_HU"
      },
      "execution_count": null,
      "outputs": []
    },
    {
      "cell_type": "code",
      "source": [
        "# NLP\n",
        "bibfile.topics_representatives()"
      ],
      "metadata": {
        "id": "PGf8OBmZI60J"
      },
      "execution_count": null,
      "outputs": []
    },
    {
      "cell_type": "code",
      "source": [
        "# NLP\n",
        "similar_topics, similarity = bibfile.topic_model.find_topics('electre', top_n = 10)\n",
        "for i in range(0, len(similar_topics)):\n",
        "  print('Topic: ', similar_topics[i], 'Correlation: ', round(similarity[i], 3))"
      ],
      "metadata": {
        "id": "B31eDPxLI9mB"
      },
      "execution_count": null,
      "outputs": []
    },
    {
      "cell_type": "code",
      "source": [
        "# NLP\n",
        "# Arguments: doc_id = Article ID. For the specified article, this function evaluates how each word in its abstract semantically aligns with all topics in the model.\n",
        "df = bibfile.topics_words(doc_id = 42)"
      ],
      "metadata": {
        "id": "YuzaAJLqIiaX"
      },
      "execution_count": null,
      "outputs": []
    },
    {
      "cell_type": "code",
      "source": [
        "# NLP\n",
        "bibfile.topic_model.save('my_topic_model')\n",
        "#loaded_topic_model = BERTopic.load('my_topic_model')"
      ],
      "metadata": {
        "id": "iM8cgpvlJABb"
      },
      "execution_count": null,
      "outputs": []
    },
    {
      "cell_type": "code",
      "source": [
        "# W2V\n",
        "model, corpus, w_emb, vocab = bibfile.word_embeddings(stop_words        = ['en'],\n",
        "                                                      lowercase         = True,\n",
        "                                                      rmv_accents       = True,\n",
        "                                                      rmv_special_chars = False,\n",
        "                                                      rmv_numbers       = True,\n",
        "                                                      rmv_custom_words  = [],\n",
        "                                                      vector_size       = 100,\n",
        "                                                      window            = 5,\n",
        "                                                      min_count         = 1,\n",
        "                                                      epochs            = 10)"
      ],
      "metadata": {
        "id": "khPf33Ecef4e"
      },
      "execution_count": null,
      "outputs": []
    },
    {
      "cell_type": "code",
      "source": [
        "# W2V - Similarity\n",
        "similarity = bibfile.word_embeddings_sim(model, word_1 = 'mcda', word_2 = 'risk')\n",
        "similarity"
      ],
      "metadata": {
        "id": "qw-faN4OfAx6"
      },
      "execution_count": null,
      "outputs": []
    },
    {
      "cell_type": "code",
      "source": [
        "# W2V - Find Docs\n",
        "results = bibfile.word_embeddings_find_doc(corpus, target_words = ['mcda', 'risk'])\n",
        "results"
      ],
      "metadata": {
        "id": "C0yeTvRcgBO4"
      },
      "execution_count": null,
      "outputs": []
    },
    {
      "cell_type": "code",
      "source": [
        "# W2V - Operations\n",
        "operations = bibfile.word_embeddings_operations(model, positive = ['mcda', 'group'], negative = ['risk'], topn = 10)\n",
        "operations"
      ],
      "metadata": {
        "id": "xTlaZVK6fIi1"
      },
      "execution_count": null,
      "outputs": []
    },
    {
      "cell_type": "code",
      "source": [
        "# W2V - Operations Plot.\n",
        "bibfile.plot_word_embeddings(model,\n",
        "                             view      = 'notebook',\n",
        "                             positive  = [ ['mcda', 'group'], ['decision'],             ['group']],\n",
        "                             negative  = [ ['risk'],          ['research', 'analysis'], []       ],\n",
        "                             topn      = 5,\n",
        "                             node_size = 10,\n",
        "                             font_size = 14)"
      ],
      "metadata": {
        "id": "OyWQfo73fWrK"
      },
      "execution_count": null,
      "outputs": []
    },
    {
      "cell_type": "code",
      "source": [
        "# NLP - Abstractive Summarization\n",
        "# Arguments: article_ids = A list of documents to perform an abstractive summarization with the available abstracts. If the list is empty then all documents will be used\n",
        "#            model_name  = Available pre-trained models. Complete list is available at  https://huggingface.co/models?pipeline_tag=summarization&sort=downloads&search=pegasus\n",
        "abs_summary = bibfile.summarize_abst_peg(article_ids = [171, 184, 98], model_name = 'google/pegasus-xsum')"
      ],
      "metadata": {
        "id": "KsGDrIlMhn3F"
      },
      "execution_count": null,
      "outputs": []
    },
    {
      "cell_type": "code",
      "source": [
        "# NLP - Check Abstractive Summarization\n",
        "print(textwrap.fill(abs_summary, 150))"
      ],
      "metadata": {
        "id": "62jUQ26IHpGQ"
      },
      "execution_count": null,
      "outputs": []
    },
    {
      "cell_type": "code",
      "source": [
        "# NLP - Abstractive Summarization - chatGPT\n",
        "\n",
        "# OBS 1: Requires the user to have an **API key** (https://platform.openai.com/account/api-keys))\n",
        "# OBS 2: The limit of characters is 4097 per request\n",
        "\n",
        "# Arguments: article_ids   = A list of documents to perform an abstractive summarization with the available abstracts. If the list is empty then all documents will be used\n",
        "#            join_articles = If False then the abstracts will be analyzed separately. If True then the abstracts will be concate in a single text\n",
        "#            api_key       = 'your_api_key_here'. Insert your personal API key (https://platform.openai.com/account/api-keys)\n",
        "#            model         = Specifies the AI model used for text generation. The default value is \"text-davinci-003\"\n",
        "#            query         = Ask chatGPT what you want to do with the abstracts. The default query is: 'from the following scientific abstracts, summarize the main information in a single paragraph using around 250 words'\n",
        "abs_summary_chat = bibfile.summarize_abst_chatgpt(article_ids = [1,2], join_articles = True, api_key = 'your_api_key_here', query = 'from the following scientific abstracts, summarize the main information in a single paragraph using around 250 words', model = 'gpt-4')"
      ],
      "metadata": {
        "id": "pdYsa7GxVsCo"
      },
      "execution_count": null,
      "outputs": []
    },
    {
      "cell_type": "code",
      "source": [
        "# NLP - Check Abstractive Summarization\n",
        "print(textwrap.fill(abs_summary_chat, 250))"
      ],
      "metadata": {
        "id": "tmffgTX9VsNY"
      },
      "execution_count": null,
      "outputs": []
    },
    {
      "cell_type": "code",
      "source": [
        "# NLP - Extractive Summarization\n",
        "# Arguments: article_ids = A list of documents to perform an extractive summarization with the available abstracts. If the list is empty then all documents will be used\n",
        "ext_summary = bibfile.summarize_ext_bert(article_ids = [1, 2])"
      ],
      "metadata": {
        "id": "vl3veyixhoRG"
      },
      "execution_count": null,
      "outputs": []
    },
    {
      "cell_type": "code",
      "source": [
        "# NLP - Check Extractive Summarization\n",
        "print(textwrap.fill(ext_summary, 150))"
      ],
      "metadata": {
        "id": "6D7c8GQ5HoPM"
      },
      "execution_count": null,
      "outputs": []
    },
    {
      "cell_type": "markdown",
      "source": [
        "# Correction and Data Manipulation\n",
        "---\n",
        "In this section, we will show how to Correct & Manipulate your Data"
      ],
      "metadata": {
        "id": "WBht9N_4e0Cz"
      }
    },
    {
      "cell_type": "code",
      "source": [
        "# Filter the .bib File\n",
        "# Arguments: document = A list of documents to retain. The other documents will be deleted\n",
        "#            doc_type = A list of doc types. Check the 'report' to select the available types;\n",
        "#            year_str = An integer the determines the starting year of collection -1 = All years;\n",
        "#            year_end = An integer the determines the ending year of collection   -1 = All years;\n",
        "#            sources  = A list of sources. Check the cell '# Check Sources IDs' to select the available types;\n",
        "#            core     = A integer (-1, 1, 2, 3, 12, or 23) -1 = All sources, 1 = Bradford core 1, 2 = Bradford core 2, 3 = Bradford core 3, 12 = Bradford core 1 and 2, 23 = Bradford core 2 and 3;\n",
        "#            country  = A list of countries. Check the cell '# Check Countries IDs' to select the available types;\n",
        "#            language = A list of languages. Check the 'report' to select the available types\n",
        "#            abstract = True or False. True removes UNKNOW values from the abstract.\n",
        "bibfile.filter_bib(documents = [], doc_type = [], year_str = -1, year_end = -1, sources = [], core = -1, country = [], language = [], abstract = False)"
      ],
      "metadata": {
        "id": "37Q8Hrq22ILh"
      },
      "execution_count": null,
      "outputs": []
    },
    {
      "cell_type": "code",
      "source": [
        "# Correct the .bib File\n",
        "# Arguments: get         = A list of the current name(s);\n",
        "#            replace_for = A string. This string will replace all matchs from the 'get' argument list\n",
        "bibfile.merge_author(get = [], replace_for = 'name')\n",
        "bibfile.merge_institution(get = [], replace_for = 'name')\n",
        "bibfile.merge_country(get = [], replace_for = 'name')\n",
        "bibfile.merge_language(get = [], replace_for = 'name')\n",
        "bibfile.merge_source(get = [], replace_for = 'name')\n",
        "bibfile.merge_reference(get = [], replace_for = 'name')"
      ],
      "metadata": {
        "id": "w3CRHwQS2K9n"
      },
      "execution_count": null,
      "outputs": []
    },
    {
      "cell_type": "code",
      "source": [
        "# Work with modified .bib File\n",
        "\n",
        "# 1) Input a .bib to instantiate a class => bibfile  = pbx_probe(file_bib = file_name, db = database, del_duplicated = True)\n",
        "# 2) Then made the modifications and save the data externally => bibfile.save_database(sep = '\\t', name = 'data.csv')\n",
        "# 3) To load the modified .bib file ( 'data.csv') => bibfile.load_database(name = 'data.csv')\n",
        "\n",
        "# PS: Even with the saved 'data.csv', you always need to do step 1, so to be fast, have any small .bib file in hand.\n",
        "# Then, you can go directly to step 3, and your saved .bib ('data.csv') will replace the small .bib"
      ],
      "metadata": {
        "id": "1DTmwF1fWggg"
      },
      "execution_count": null,
      "outputs": []
    }
  ]
}